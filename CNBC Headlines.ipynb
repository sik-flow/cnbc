{
 "cells": [
  {
   "cell_type": "markdown",
   "metadata": {},
   "source": [
    "## Grab CNBC Articles"
   ]
  },
  {
   "cell_type": "code",
   "execution_count": 2,
   "metadata": {
    "collapsed": true
   },
   "outputs": [],
   "source": [
    "from newsapi import NewsApiClient\n",
    "import pandas as pd"
   ]
  },
  {
   "cell_type": "markdown",
   "metadata": {},
   "source": [
    "#### To run this will need an API Key\n",
    "\n",
    "#### You can get a free API key at [News API](https://newsapi.org/).  Once you have your API key copy and paste it into the below cell."
   ]
  },
  {
   "cell_type": "code",
   "execution_count": 3,
   "metadata": {},
   "outputs": [],
   "source": [
    "newsapi = NewsApiClient(api_key='')"
   ]
  },
  {
   "cell_type": "markdown",
   "metadata": {},
   "source": [
    "#### Create empty lists.  These empty lists will be the columns of my dataframe.  "
   ]
  },
  {
   "cell_type": "code",
   "execution_count": 3,
   "metadata": {
    "collapsed": true
   },
   "outputs": [],
   "source": [
    "author = []\n",
    "description = []\n",
    "published = []\n",
    "source = []\n",
    "title = []\n",
    "url = []"
   ]
  },
  {
   "cell_type": "markdown",
   "metadata": {},
   "source": [
    "#### For loop to first make the API calls and then fill the lists.  The for loop - loops through 1 to 102, I do this because there is a parameter in the API call for page.  So the first time I go through the loop I do the API call on page 1, then page 2, etc..  The for loop has a conditional to print out every 10 times through the for loop so you can see the progress of the API calls.  For each page in the API call I extract the different values from the JSON and append it to the empty loops that I made above."
   ]
  },
  {
   "cell_type": "code",
   "execution_count": 4,
   "metadata": {},
   "outputs": [
    {
     "name": "stdout",
     "output_type": "stream",
     "text": [
      "API call 10 of 100 complete\n",
      "API call 20 of 100 complete\n",
      "API call 30 of 100 complete\n",
      "API call 40 of 100 complete\n",
      "API call 50 of 100 complete\n",
      "API call 60 of 100 complete\n",
      "API call 70 of 100 complete\n",
      "API call 80 of 100 complete\n",
      "API call 90 of 100 complete\n",
      "API call 100 of 100 complete\n"
     ]
    }
   ],
   "source": [
    "for x in range(1, 101):\n",
    "    if x % 10 == 0:\n",
    "        print (f'API call {x} of 100 complete')\n",
    "    all_articles = newsapi.get_everything(q='bitcoin',\n",
    "                                      sources='cnbc',\n",
    "                                      domains='cnbc.com',\n",
    "                                      language='en',\n",
    "                                      sort_by='publishedAt',\n",
    "                                      page_size = 90,\n",
    "                                      page = x)\n",
    "    for x in all_articles['articles']:\n",
    "        author.append(x['author'])\n",
    "        description.append(x['description'])\n",
    "        published.append(x['publishedAt'])\n",
    "        source.append(x['source']['name'])\n",
    "        title.append(x['title'])\n",
    "        url.append(x['url'])"
   ]
  },
  {
   "cell_type": "markdown",
   "metadata": {},
   "source": [
    "#### Next I take the now filled lists and make a dataframe out of it."
   ]
  },
  {
   "cell_type": "code",
   "execution_count": 5,
   "metadata": {
    "collapsed": true
   },
   "outputs": [],
   "source": [
    "df = pd.DataFrame({'author': author,\n",
    "                  'description': description,\n",
    "                  'published': published,\n",
    "                  'source': source,\n",
    "                  'title': title,\n",
    "                  'url': url})"
   ]
  },
  {
   "cell_type": "code",
   "execution_count": 6,
   "metadata": {},
   "outputs": [
    {
     "data": {
      "text/plain": [
       "(1928, 6)"
      ]
     },
     "execution_count": 6,
     "metadata": {},
     "output_type": "execute_result"
    }
   ],
   "source": [
    "df.shape"
   ]
  },
  {
   "cell_type": "code",
   "execution_count": 7,
   "metadata": {},
   "outputs": [
    {
     "data": {
      "text/html": [
       "<div>\n",
       "<style>\n",
       "    .dataframe thead tr:only-child th {\n",
       "        text-align: right;\n",
       "    }\n",
       "\n",
       "    .dataframe thead th {\n",
       "        text-align: left;\n",
       "    }\n",
       "\n",
       "    .dataframe tbody tr th {\n",
       "        vertical-align: top;\n",
       "    }\n",
       "</style>\n",
       "<table border=\"1\" class=\"dataframe\">\n",
       "  <thead>\n",
       "    <tr style=\"text-align: right;\">\n",
       "      <th></th>\n",
       "      <th>author</th>\n",
       "      <th>description</th>\n",
       "      <th>published</th>\n",
       "      <th>source</th>\n",
       "      <th>title</th>\n",
       "      <th>url</th>\n",
       "    </tr>\n",
       "  </thead>\n",
       "  <tbody>\n",
       "    <tr>\n",
       "      <th>0</th>\n",
       "      <td>Jennifer Schlesinger</td>\n",
       "      <td>A growing number of colleges have students tha...</td>\n",
       "      <td>2018-08-11T16:00:00Z</td>\n",
       "      <td>CNBC</td>\n",
       "      <td>The new miners: Wave of cryptocurrency mining ...</td>\n",
       "      <td>https://www.cnbc.com/2018/08/10/the-new-miners...</td>\n",
       "    </tr>\n",
       "    <tr>\n",
       "      <th>1</th>\n",
       "      <td>CNBC US Source</td>\n",
       "      <td>The \"Fast Money\" traders share their final tra...</td>\n",
       "      <td>2018-08-10T22:15:00Z</td>\n",
       "      <td>CNBC</td>\n",
       "      <td>Final Trade: IWM, KR &amp; more</td>\n",
       "      <td>https://www.cnbc.com/video/2018/08/10/final-tr...</td>\n",
       "    </tr>\n",
       "    <tr>\n",
       "      <th>2</th>\n",
       "      <td>Nia Warfield</td>\n",
       "      <td>The \"Fast Money\" traders share their first mov...</td>\n",
       "      <td>2018-08-10T13:30:00Z</td>\n",
       "      <td>CNBC</td>\n",
       "      <td>Your first trade for Friday, August 10</td>\n",
       "      <td>https://www.cnbc.com/2018/08/10/your-first-tra...</td>\n",
       "    </tr>\n",
       "    <tr>\n",
       "      <th>3</th>\n",
       "      <td>Cheang Ming</td>\n",
       "      <td>The bond will be the first in the world to be ...</td>\n",
       "      <td>2018-08-10T05:32:00Z</td>\n",
       "      <td>CNBC</td>\n",
       "      <td>The World Bank is preparing for the world's fi...</td>\n",
       "      <td>https://www.cnbc.com/2018/08/10/world-bank-pic...</td>\n",
       "    </tr>\n",
       "    <tr>\n",
       "      <th>4</th>\n",
       "      <td>Ali Montag</td>\n",
       "      <td>Cryptocurrency bitcoin has a statistical proba...</td>\n",
       "      <td>2018-08-09T16:48:00Z</td>\n",
       "      <td>CNBC</td>\n",
       "      <td>Yale economist: Here's how likely it is that b...</td>\n",
       "      <td>https://www.cnbc.com/2018/08/09/yale-economist...</td>\n",
       "    </tr>\n",
       "  </tbody>\n",
       "</table>\n",
       "</div>"
      ],
      "text/plain": [
       "                 author                                        description  \\\n",
       "0  Jennifer Schlesinger  A growing number of colleges have students tha...   \n",
       "1        CNBC US Source  The \"Fast Money\" traders share their final tra...   \n",
       "2          Nia Warfield  The \"Fast Money\" traders share their first mov...   \n",
       "3           Cheang Ming  The bond will be the first in the world to be ...   \n",
       "4            Ali Montag  Cryptocurrency bitcoin has a statistical proba...   \n",
       "\n",
       "              published source  \\\n",
       "0  2018-08-11T16:00:00Z   CNBC   \n",
       "1  2018-08-10T22:15:00Z   CNBC   \n",
       "2  2018-08-10T13:30:00Z   CNBC   \n",
       "3  2018-08-10T05:32:00Z   CNBC   \n",
       "4  2018-08-09T16:48:00Z   CNBC   \n",
       "\n",
       "                                               title  \\\n",
       "0  The new miners: Wave of cryptocurrency mining ...   \n",
       "1                        Final Trade: IWM, KR & more   \n",
       "2             Your first trade for Friday, August 10   \n",
       "3  The World Bank is preparing for the world's fi...   \n",
       "4  Yale economist: Here's how likely it is that b...   \n",
       "\n",
       "                                                 url  \n",
       "0  https://www.cnbc.com/2018/08/10/the-new-miners...  \n",
       "1  https://www.cnbc.com/video/2018/08/10/final-tr...  \n",
       "2  https://www.cnbc.com/2018/08/10/your-first-tra...  \n",
       "3  https://www.cnbc.com/2018/08/10/world-bank-pic...  \n",
       "4  https://www.cnbc.com/2018/08/09/yale-economist...  "
      ]
     },
     "execution_count": 7,
     "metadata": {},
     "output_type": "execute_result"
    }
   ],
   "source": [
    "df.head()"
   ]
  },
  {
   "cell_type": "code",
   "execution_count": 8,
   "metadata": {},
   "outputs": [
    {
     "data": {
      "text/plain": [
       "author         object\n",
       "description    object\n",
       "published      object\n",
       "source         object\n",
       "title          object\n",
       "url            object\n",
       "dtype: object"
      ]
     },
     "execution_count": 8,
     "metadata": {},
     "output_type": "execute_result"
    }
   ],
   "source": [
    "df.dtypes"
   ]
  },
  {
   "cell_type": "markdown",
   "metadata": {},
   "source": [
    "#### Need to convert the published column to a Pandas Date/Time so I can make new column to extract date"
   ]
  },
  {
   "cell_type": "code",
   "execution_count": 9,
   "metadata": {},
   "outputs": [
    {
     "data": {
      "text/plain": [
       "author                 object\n",
       "description            object\n",
       "published      datetime64[ns]\n",
       "source                 object\n",
       "title                  object\n",
       "url                    object\n",
       "dtype: object"
      ]
     },
     "execution_count": 9,
     "metadata": {},
     "output_type": "execute_result"
    }
   ],
   "source": [
    "df['published'] = pd.to_datetime(df['published'])\n",
    "df.dtypes"
   ]
  },
  {
   "cell_type": "code",
   "execution_count": 10,
   "metadata": {
    "collapsed": true
   },
   "outputs": [],
   "source": [
    "df['date'] = df['published'].dt.date"
   ]
  },
  {
   "cell_type": "code",
   "execution_count": 11,
   "metadata": {},
   "outputs": [
    {
     "data": {
      "text/html": [
       "<div>\n",
       "<style>\n",
       "    .dataframe thead tr:only-child th {\n",
       "        text-align: right;\n",
       "    }\n",
       "\n",
       "    .dataframe thead th {\n",
       "        text-align: left;\n",
       "    }\n",
       "\n",
       "    .dataframe tbody tr th {\n",
       "        vertical-align: top;\n",
       "    }\n",
       "</style>\n",
       "<table border=\"1\" class=\"dataframe\">\n",
       "  <thead>\n",
       "    <tr style=\"text-align: right;\">\n",
       "      <th></th>\n",
       "      <th>author</th>\n",
       "      <th>description</th>\n",
       "      <th>published</th>\n",
       "      <th>source</th>\n",
       "      <th>title</th>\n",
       "      <th>url</th>\n",
       "      <th>date</th>\n",
       "    </tr>\n",
       "  </thead>\n",
       "  <tbody>\n",
       "    <tr>\n",
       "      <th>0</th>\n",
       "      <td>Jennifer Schlesinger</td>\n",
       "      <td>A growing number of colleges have students tha...</td>\n",
       "      <td>2018-08-11 16:00:00</td>\n",
       "      <td>CNBC</td>\n",
       "      <td>The new miners: Wave of cryptocurrency mining ...</td>\n",
       "      <td>https://www.cnbc.com/2018/08/10/the-new-miners...</td>\n",
       "      <td>2018-08-11</td>\n",
       "    </tr>\n",
       "    <tr>\n",
       "      <th>1</th>\n",
       "      <td>CNBC US Source</td>\n",
       "      <td>The \"Fast Money\" traders share their final tra...</td>\n",
       "      <td>2018-08-10 22:15:00</td>\n",
       "      <td>CNBC</td>\n",
       "      <td>Final Trade: IWM, KR &amp; more</td>\n",
       "      <td>https://www.cnbc.com/video/2018/08/10/final-tr...</td>\n",
       "      <td>2018-08-10</td>\n",
       "    </tr>\n",
       "    <tr>\n",
       "      <th>2</th>\n",
       "      <td>Nia Warfield</td>\n",
       "      <td>The \"Fast Money\" traders share their first mov...</td>\n",
       "      <td>2018-08-10 13:30:00</td>\n",
       "      <td>CNBC</td>\n",
       "      <td>Your first trade for Friday, August 10</td>\n",
       "      <td>https://www.cnbc.com/2018/08/10/your-first-tra...</td>\n",
       "      <td>2018-08-10</td>\n",
       "    </tr>\n",
       "    <tr>\n",
       "      <th>3</th>\n",
       "      <td>Cheang Ming</td>\n",
       "      <td>The bond will be the first in the world to be ...</td>\n",
       "      <td>2018-08-10 05:32:00</td>\n",
       "      <td>CNBC</td>\n",
       "      <td>The World Bank is preparing for the world's fi...</td>\n",
       "      <td>https://www.cnbc.com/2018/08/10/world-bank-pic...</td>\n",
       "      <td>2018-08-10</td>\n",
       "    </tr>\n",
       "    <tr>\n",
       "      <th>4</th>\n",
       "      <td>Ali Montag</td>\n",
       "      <td>Cryptocurrency bitcoin has a statistical proba...</td>\n",
       "      <td>2018-08-09 16:48:00</td>\n",
       "      <td>CNBC</td>\n",
       "      <td>Yale economist: Here's how likely it is that b...</td>\n",
       "      <td>https://www.cnbc.com/2018/08/09/yale-economist...</td>\n",
       "      <td>2018-08-09</td>\n",
       "    </tr>\n",
       "  </tbody>\n",
       "</table>\n",
       "</div>"
      ],
      "text/plain": [
       "                 author                                        description  \\\n",
       "0  Jennifer Schlesinger  A growing number of colleges have students tha...   \n",
       "1        CNBC US Source  The \"Fast Money\" traders share their final tra...   \n",
       "2          Nia Warfield  The \"Fast Money\" traders share their first mov...   \n",
       "3           Cheang Ming  The bond will be the first in the world to be ...   \n",
       "4            Ali Montag  Cryptocurrency bitcoin has a statistical proba...   \n",
       "\n",
       "            published source  \\\n",
       "0 2018-08-11 16:00:00   CNBC   \n",
       "1 2018-08-10 22:15:00   CNBC   \n",
       "2 2018-08-10 13:30:00   CNBC   \n",
       "3 2018-08-10 05:32:00   CNBC   \n",
       "4 2018-08-09 16:48:00   CNBC   \n",
       "\n",
       "                                               title  \\\n",
       "0  The new miners: Wave of cryptocurrency mining ...   \n",
       "1                        Final Trade: IWM, KR & more   \n",
       "2             Your first trade for Friday, August 10   \n",
       "3  The World Bank is preparing for the world's fi...   \n",
       "4  Yale economist: Here's how likely it is that b...   \n",
       "\n",
       "                                                 url        date  \n",
       "0  https://www.cnbc.com/2018/08/10/the-new-miners...  2018-08-11  \n",
       "1  https://www.cnbc.com/video/2018/08/10/final-tr...  2018-08-10  \n",
       "2  https://www.cnbc.com/2018/08/10/your-first-tra...  2018-08-10  \n",
       "3  https://www.cnbc.com/2018/08/10/world-bank-pic...  2018-08-10  \n",
       "4  https://www.cnbc.com/2018/08/09/yale-economist...  2018-08-09  "
      ]
     },
     "execution_count": 11,
     "metadata": {},
     "output_type": "execute_result"
    }
   ],
   "source": [
    "df.head()"
   ]
  },
  {
   "cell_type": "code",
   "execution_count": 12,
   "metadata": {
    "collapsed": true
   },
   "outputs": [],
   "source": [
    "df.to_csv('cnbc.csv', index = False)"
   ]
  }
 ],
 "metadata": {
  "kernelspec": {
   "display_name": "Python 3",
   "language": "python",
   "name": "python3"
  },
  "language_info": {
   "codemirror_mode": {
    "name": "ipython",
    "version": 3
   },
   "file_extension": ".py",
   "mimetype": "text/x-python",
   "name": "python",
   "nbconvert_exporter": "python",
   "pygments_lexer": "ipython3",
   "version": "3.6.5"
  }
 },
 "nbformat": 4,
 "nbformat_minor": 2
}
